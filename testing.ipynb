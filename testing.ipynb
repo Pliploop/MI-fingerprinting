{
 "cells": [
  {
   "cell_type": "code",
   "execution_count": null,
   "metadata": {},
   "outputs": [],
   "source": [
    "import torch\n",
    "import torch.functional.cosine_similarity as cosine_similarity\n",
    "\n",
    "test1 = torch.randn(3, 4)"
   ]
  }
 ],
 "metadata": {
  "language_info": {
   "name": "python"
  }
 },
 "nbformat": 4,
 "nbformat_minor": 2
}
